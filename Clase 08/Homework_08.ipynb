{
 "cells": [
  {
   "cell_type": "markdown",
   "metadata": {},
   "source": [
    "# Práctica Clase 8"
   ]
  },
  {
   "cell_type": "markdown",
   "metadata": {},
   "source": [
    "<h2>Algoritmos de Ordenamiento</h2>"
   ]
  },
  {
   "cell_type": "markdown",
   "metadata": {},
   "source": [
    "1) Dada la función provista 'ListaDesordenada' implementar los algoritmos de ordenamiento vistos en clase:\n",
    "<ul>\n",
    "    <ol>Selección</ol>\n",
    "    <ol>Burbuja</ol>\n",
    "</ul>"
   ]
  },
  {
   "cell_type": "code",
   "execution_count": 185,
   "metadata": {},
   "outputs": [],
   "source": [
    "def ListaDesordenada(desorden, cantidad): \n",
    "    '''\n",
    "    Esta función devuelve una lista\n",
    "    desorden = es un porcentaje de desordenamiento\n",
    "    cantidad = cantidad de elementos de la lista\n",
    "    '''\n",
    "    import random as r\n",
    "    import numpy as np\n",
    "\n",
    "    lista = list(range(0, cantidad))\n",
    "\n",
    "    desorden = int(cantidad * desorden / 100)\n",
    "\n",
    "    while (desorden > 0):\n",
    "        i = r.randint(0,cantidad-1)\n",
    "        j = r.randint(0,cantidad-1)\n",
    "        aux = lista[i]\n",
    "        lista[i] = lista[j]\n",
    "        lista[j] = aux\n",
    "        desorden-=1\n",
    "    return lista\n",
    "\n",
    "def ord_por_burbujeo(lista):\n",
    "    cont = True\n",
    "    temp = None\n",
    "    while cont:\n",
    "        cont = False\n",
    "        for i in range(len(lista) - 1):\n",
    "            if lista[i+1] < lista[i]:\n",
    "                cont = True\n",
    "                temp = lista[i]\n",
    "                lista[i] = lista[i+1]\n",
    "                lista[i+1] = temp\n",
    "    return lista\n",
    "\n",
    "def ord_por_burbujeo2(lista): #Probando una alteración para medir rendimiento (se añade break)\n",
    "    cont = True\n",
    "    temp = None\n",
    "    while cont:\n",
    "        cont = False\n",
    "        for i in range(len(lista) - 1):\n",
    "            if lista[i+1] < lista[i]:\n",
    "                cont = True\n",
    "                temp = lista[i]\n",
    "                lista[i] = lista[i+1]\n",
    "                lista[i+1] = temp\n",
    "                break\n",
    "    return lista\n",
    "\n",
    "\n",
    "def ord_por_seleccion(lista):\n",
    "    cont = False\n",
    "    resultado = []\n",
    "    temp = None\n",
    "    while lista:\n",
    "        if len(lista) == 1:\n",
    "            resultado.append(lista[0])\n",
    "            lista.pop(0)\n",
    "        else:\n",
    "            temp = lista[0]\n",
    "            for i in range(len(lista)):\n",
    "                if lista[i] < temp:\n",
    "                    temp = lista[i]\n",
    "            resultado.append(temp)\n",
    "            lista.pop(lista.index(temp))\n",
    "    return resultado\n",
    "\n",
    "import numpy as np\n",
    "def ord_por_numpy(lista): \n",
    "    a = np.array(lista)\n",
    "    a.sort()\n",
    "    a = a.tolist()\n",
    "    return a"
   ]
  },
  {
   "cell_type": "markdown",
   "metadata": {},
   "source": [
    "2) Para las siguientes instancias, probar el tiempo de duración del ordenamiento de cada uno de los métodos"
   ]
  },
  {
   "cell_type": "code",
   "execution_count": 194,
   "metadata": {},
   "outputs": [
    {
     "name": "stdout",
     "output_type": "stream",
     "text": [
      "1656535875.700553\n",
      "1656535881.507234\n",
      "METODO SELECCION: Llevo 5.806681156158447 segundos en total.\n",
      "\n",
      "1656535881.508233\n",
      "1656535881.513231\n",
      "METODO NUMPY: Llevo 0.004997968673706055 segundos en total.\n",
      "\n"
     ]
    }
   ],
   "source": [
    "import time\n",
    "\n",
    "\n",
    "a = ListaDesordenada(100, 10000)\n",
    "b = a.copy()\n",
    "c = a.copy()\n",
    "d = a.copy()\n",
    "e = a.copy()\n",
    "\n",
    "''' Se comenta por ser muy lento para probar con muchos valores\n",
    "start = time.time()\n",
    "ord_por_burbujeo(a)\n",
    "end = time.time()\n",
    "print(start)\n",
    "print(end)\n",
    "tbur = start - end\n",
    "print(f\"METODO BURBUJEO: Llevo {end-start} segundos en total.\")\n",
    "print()\n",
    "'''\n",
    "\n",
    "''' Se comenta por ser muy lento para probar con muchos valores\n",
    "start = time.time()\n",
    "ord_por_burbujeo2(b)\n",
    "end = time.time()\n",
    "print(start)\n",
    "print(end)\n",
    "tbur2 = start - end\n",
    "print(f\"METODO BURBUJEO 2: Llevo {end-start} segundos en total.\")\n",
    "print()\n",
    "'''\n",
    "\n",
    "start = time.time()\n",
    "ord_por_seleccion(c)\n",
    "end = time.time()\n",
    "print(start)\n",
    "print(end)\n",
    "tsel = start - end\n",
    "print(f\"METODO SELECCION: Llevo {end-start} segundos en total.\")\n",
    "print()\n",
    "\n",
    "start = time.time()\n",
    "ord_por_numpy(d)\n",
    "end = time.time()\n",
    "print(start)\n",
    "print(end)\n",
    "tnumpy = start - end\n",
    "print(f\"METODO NUMPY: Llevo {end-start} segundos en total.\")\n",
    "#print(f'Numpy tarda {tnumpy*100/tsel:.2f} % del tiempo que tarda método de selección') #se comenta porque para valores pequeños da error de división entre cero\n",
    "print()"
   ]
  }
 ],
 "metadata": {
  "kernelspec": {
   "display_name": "Python 3.10.1 64-bit",
   "language": "python",
   "name": "python3"
  },
  "language_info": {
   "codemirror_mode": {
    "name": "ipython",
    "version": 3
   },
   "file_extension": ".py",
   "mimetype": "text/x-python",
   "name": "python",
   "nbconvert_exporter": "python",
   "pygments_lexer": "ipython3",
   "version": "3.10.1"
  },
  "vscode": {
   "interpreter": {
    "hash": "7a00de2d03a2cdd800050a5fd9903e27ef0ab168083508fb826c5866b9462f56"
   }
  }
 },
 "nbformat": 4,
 "nbformat_minor": 4
}
